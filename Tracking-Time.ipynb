{
 "cells": [
  {
   "cell_type": "code",
   "execution_count": 76,
   "metadata": {},
   "outputs": [],
   "source": [
    "import pandas as pd\n",
    "import matplotlib as mpl\n",
    "import matplotlib.pyplot as plt\n",
    "from datetime import datetime, timedelta\n",
    "import pprint as pprint\n",
    "import re\n",
    "\n",
    "%matplotlib inline"
   ]
  },
  {
   "cell_type": "markdown",
   "metadata": {},
   "source": [
    "## Reading in Data"
   ]
  },
  {
   "cell_type": "markdown",
   "metadata": {},
   "source": [
    "Starting with general data - day-to-day stuff."
   ]
  },
  {
   "cell_type": "code",
   "execution_count": 3,
   "metadata": {
    "scrolled": true
   },
   "outputs": [],
   "source": [
    "data_path = \"./data/\"\n",
    "general = pd.read_csv(data_path + \"general.csv\", skiprows=1, names=[\"Event\", \"Start_time\", \"End_time\"])"
   ]
  },
  {
   "cell_type": "code",
   "execution_count": 4,
   "metadata": {
    "scrolled": true
   },
   "outputs": [
    {
     "name": "stdout",
     "output_type": "stream",
     "text": [
      "<class 'pandas.core.frame.DataFrame'>\n",
      "RangeIndex: 1302 entries, 0 to 1301\n",
      "Data columns (total 3 columns):\n",
      "Event         1302 non-null object\n",
      "Start_time    1302 non-null object\n",
      "End_time      1302 non-null object\n",
      "dtypes: object(3)\n",
      "memory usage: 30.6+ KB\n"
     ]
    }
   ],
   "source": [
    "general.info()"
   ]
  },
  {
   "cell_type": "markdown",
   "metadata": {},
   "source": [
    "Let's start by converting columns to their proper types."
   ]
  },
  {
   "cell_type": "code",
   "execution_count": 5,
   "metadata": {},
   "outputs": [],
   "source": [
    "general['Event'] = general['Event'].astype(str)\n",
    "general['Start_time'] = pd.to_datetime(general['Start_time'])\n",
    "general['End_time'] = pd.to_datetime(general['End_time'])"
   ]
  },
  {
   "cell_type": "code",
   "execution_count": 6,
   "metadata": {},
   "outputs": [
    {
     "data": {
      "text/plain": [
       "(Timestamp('2009-06-08 23:00:00'), Timestamp('2018-09-19 16:45:00'))"
      ]
     },
     "execution_count": 6,
     "metadata": {},
     "output_type": "execute_result"
    }
   ],
   "source": [
    "general['Start_time'].min(), general['End_time'].max()"
   ]
  },
  {
   "cell_type": "markdown",
   "metadata": {},
   "source": [
    "## Filter data by date"
   ]
  },
  {
   "cell_type": "markdown",
   "metadata": {},
   "source": [
    "Our data ranges from June 2009 to September 2018 (future events)."
   ]
  },
  {
   "cell_type": "code",
   "execution_count": 7,
   "metadata": {},
   "outputs": [],
   "source": [
    "def filter_by_date(pd, date_start, date_end):\n",
    "    \"\"\"\n",
    "    Return dataframe with rows where 'Start_time' is between date_start and date_end.\n",
    "    Params:\n",
    "        pd: dataframe with 'Start_time' column\n",
    "        date_start: string with start date in MM/DD/YYYY format\n",
    "        date_end: string with end date in MM/DD/YYYY format\n",
    "    \"\"\"\n",
    "    start = datetime.strptime(date_start, \"%m/%d/%Y\")\n",
    "    end = datetime.strptime(date_end, \"%m/%d/%Y\")\n",
    "    return pd[(pd['Start_time'] > start) & (pd['End_time'] < end)]"
   ]
  },
  {
   "cell_type": "code",
   "execution_count": 8,
   "metadata": {
    "scrolled": true
   },
   "outputs": [],
   "source": [
    "# start and end dates for UCLA Fall 2017 quarter\n",
    "fall_2017_start = \"09/25/2017\"\n",
    "fall_2017_end = \"12/16/2017\"\n",
    "\n",
    "general_f17 = filter_by_date(general, fall_2017_start, fall_2017_end)"
   ]
  },
  {
   "cell_type": "code",
   "execution_count": 9,
   "metadata": {},
   "outputs": [
    {
     "data": {
      "text/plain": [
       "(210, 3)"
      ]
     },
     "execution_count": 9,
     "metadata": {},
     "output_type": "execute_result"
    }
   ],
   "source": [
    "general_f17.shape"
   ]
  },
  {
   "cell_type": "markdown",
   "metadata": {},
   "source": [
    "### Let's look at Fall Quarter 2017.\n",
    "\n",
    "Looks like we have 210 events from Fall 2017."
   ]
  },
  {
   "cell_type": "code",
   "execution_count": 10,
   "metadata": {},
   "outputs": [
    {
     "data": {
      "text/html": [
       "<div>\n",
       "<style scoped>\n",
       "    .dataframe tbody tr th:only-of-type {\n",
       "        vertical-align: middle;\n",
       "    }\n",
       "\n",
       "    .dataframe tbody tr th {\n",
       "        vertical-align: top;\n",
       "    }\n",
       "\n",
       "    .dataframe thead th {\n",
       "        text-align: right;\n",
       "    }\n",
       "</style>\n",
       "<table border=\"1\" class=\"dataframe\">\n",
       "  <thead>\n",
       "    <tr style=\"text-align: right;\">\n",
       "      <th></th>\n",
       "      <th>Event</th>\n",
       "      <th>Start_time</th>\n",
       "      <th>End_time</th>\n",
       "    </tr>\n",
       "  </thead>\n",
       "  <tbody>\n",
       "    <tr>\n",
       "      <th>1085</th>\n",
       "      <td>Codefights</td>\n",
       "      <td>2017-09-25 02:30:00</td>\n",
       "      <td>2017-09-25 03:30:00</td>\n",
       "    </tr>\n",
       "    <tr>\n",
       "      <th>1086</th>\n",
       "      <td>Prep - Internships</td>\n",
       "      <td>2017-09-25 23:00:00</td>\n",
       "      <td>2017-09-26 00:15:00</td>\n",
       "    </tr>\n",
       "    <tr>\n",
       "      <th>1087</th>\n",
       "      <td>Codefights</td>\n",
       "      <td>2017-09-26 02:45:00</td>\n",
       "      <td>2017-09-26 03:45:00</td>\n",
       "    </tr>\n",
       "    <tr>\n",
       "      <th>1088</th>\n",
       "      <td>Read MT Case</td>\n",
       "      <td>2017-09-26 04:00:00</td>\n",
       "      <td>2017-09-26 04:30:00</td>\n",
       "    </tr>\n",
       "    <tr>\n",
       "      <th>1089</th>\n",
       "      <td>Prep - Internships</td>\n",
       "      <td>2017-09-27 03:15:00</td>\n",
       "      <td>2017-09-27 04:30:00</td>\n",
       "    </tr>\n",
       "  </tbody>\n",
       "</table>\n",
       "</div>"
      ],
      "text/plain": [
       "                   Event          Start_time            End_time\n",
       "1085          Codefights 2017-09-25 02:30:00 2017-09-25 03:30:00\n",
       "1086  Prep - Internships 2017-09-25 23:00:00 2017-09-26 00:15:00\n",
       "1087          Codefights 2017-09-26 02:45:00 2017-09-26 03:45:00\n",
       "1088        Read MT Case 2017-09-26 04:00:00 2017-09-26 04:30:00\n",
       "1089  Prep - Internships 2017-09-27 03:15:00 2017-09-27 04:30:00"
      ]
     },
     "execution_count": 10,
     "metadata": {},
     "output_type": "execute_result"
    }
   ],
   "source": [
    "general_f17.head()"
   ]
  },
  {
   "cell_type": "code",
   "execution_count": 11,
   "metadata": {
    "scrolled": true
   },
   "outputs": [
    {
     "data": {
      "text/html": [
       "<div>\n",
       "<style scoped>\n",
       "    .dataframe tbody tr th:only-of-type {\n",
       "        vertical-align: middle;\n",
       "    }\n",
       "\n",
       "    .dataframe tbody tr th {\n",
       "        vertical-align: top;\n",
       "    }\n",
       "\n",
       "    .dataframe thead th {\n",
       "        text-align: right;\n",
       "    }\n",
       "</style>\n",
       "<table border=\"1\" class=\"dataframe\">\n",
       "  <thead>\n",
       "    <tr style=\"text-align: right;\">\n",
       "      <th></th>\n",
       "      <th>Event</th>\n",
       "      <th>Start_time</th>\n",
       "      <th>End_time</th>\n",
       "    </tr>\n",
       "  </thead>\n",
       "  <tbody>\n",
       "    <tr>\n",
       "      <th>1290</th>\n",
       "      <td>Study - Stats</td>\n",
       "      <td>2017-12-15 02:30:00</td>\n",
       "      <td>2017-12-15 03:00:00</td>\n",
       "    </tr>\n",
       "    <tr>\n",
       "      <th>1291</th>\n",
       "      <td>Study - Math</td>\n",
       "      <td>2017-12-15 03:15:00</td>\n",
       "      <td>2017-12-15 04:00:00</td>\n",
       "    </tr>\n",
       "    <tr>\n",
       "      <th>1292</th>\n",
       "      <td>Study - Math</td>\n",
       "      <td>2017-12-15 14:30:00</td>\n",
       "      <td>2017-12-15 15:00:00</td>\n",
       "    </tr>\n",
       "    <tr>\n",
       "      <th>1293</th>\n",
       "      <td>Study - Math</td>\n",
       "      <td>2017-12-15 16:00:00</td>\n",
       "      <td>2017-12-15 18:45:00</td>\n",
       "    </tr>\n",
       "    <tr>\n",
       "      <th>1294</th>\n",
       "      <td>Study - Math</td>\n",
       "      <td>2017-12-15 20:00:00</td>\n",
       "      <td>2017-12-15 21:15:00</td>\n",
       "    </tr>\n",
       "  </tbody>\n",
       "</table>\n",
       "</div>"
      ],
      "text/plain": [
       "              Event          Start_time            End_time\n",
       "1290  Study - Stats 2017-12-15 02:30:00 2017-12-15 03:00:00\n",
       "1291   Study - Math 2017-12-15 03:15:00 2017-12-15 04:00:00\n",
       "1292   Study - Math 2017-12-15 14:30:00 2017-12-15 15:00:00\n",
       "1293   Study - Math 2017-12-15 16:00:00 2017-12-15 18:45:00\n",
       "1294   Study - Math 2017-12-15 20:00:00 2017-12-15 21:15:00"
      ]
     },
     "execution_count": 11,
     "metadata": {},
     "output_type": "execute_result"
    }
   ],
   "source": [
    "general_f17.tail()"
   ]
  },
  {
   "cell_type": "markdown",
   "metadata": {},
   "source": [
    "I'm interested in how long events are - let's create a column for that."
   ]
  },
  {
   "cell_type": "code",
   "execution_count": 69,
   "metadata": {},
   "outputs": [],
   "source": [
    "def total_time(x):\n",
    "    \"\"\"\n",
    "    Return total length, in hours, of an event.\n",
    "    Params:\n",
    "        x: dataframe row with 'Start_time' and 'End_time' columns\n",
    "    \"\"\"\n",
    "    return (x['End_time'] - x['Start_time']).total_seconds() / 3600"
   ]
  },
  {
   "cell_type": "code",
   "execution_count": 62,
   "metadata": {},
   "outputs": [],
   "source": [
    "general_f17.is_copy = False # avoid SettingWithCopyWarning\n",
    "\n",
    "general_f17['total_time'] = general_f17.apply(lambda x: total_time(x), axis=1)"
   ]
  },
  {
   "cell_type": "markdown",
   "metadata": {},
   "source": [
    "## Study Time Analysis"
   ]
  },
  {
   "cell_type": "markdown",
   "metadata": {},
   "source": [
    "Gonna create some columns to indicate whether an event is about studying math, stats, or film."
   ]
  },
  {
   "cell_type": "code",
   "execution_count": 66,
   "metadata": {},
   "outputs": [],
   "source": [
    "def is_studying(event, subject):\n",
    "    \"\"\"\n",
    "    Return True if event is about studying the subject, False otherwise.\n",
    "    Params:\n",
    "        event: string with event summary\n",
    "        subject: string\n",
    "    \"\"\"\n",
    "    regex_str = r\"study.*{}\".format(subject)\n",
    "    if re.search(regex_str, event, re.IGNORECASE):\n",
    "        return True\n",
    "    return False"
   ]
  },
  {
   "cell_type": "code",
   "execution_count": 67,
   "metadata": {
    "scrolled": false
   },
   "outputs": [],
   "source": [
    "general_f17.is_copy = False # avoid SettingWithCopyWarning\n",
    "\n",
    "study_math = general_f17.apply(lambda x: is_studying(x['Event'], \"Math\"), axis=1)\n",
    "general_f17['Studying_Math'] = study_math\n",
    "\n",
    "study_stats = general_f17.apply(lambda x: is_studying(x['Event'], \"Stats\"), axis=1)\n",
    "general_f17['Studying_Stats'] = study_stats\n",
    "\n",
    "study_film = general_f17.apply(lambda x: is_studying(x['Event'], \"Film\"), axis=1)\n",
    "general_f17['Studying_Film'] = study_film"
   ]
  },
  {
   "cell_type": "markdown",
   "metadata": {},
   "source": [
    "### Big picture view: how much time did I spend studying each subject?"
   ]
  },
  {
   "cell_type": "code",
   "execution_count": 68,
   "metadata": {},
   "outputs": [
    {
     "name": "stdout",
     "output_type": "stream",
     "text": [
      "Total time spent studying MATH 131A: 67.5\n",
      "Total time spent studying STATS 101A: 77.5\n",
      "Total time spent studying FILM TV 6A: 27.0\n"
     ]
    }
   ],
   "source": [
    "math_hours = general_f17.loc[general_f17['Studying_Math'], 'total_time'].sum()\n",
    "stats_hours = general_f17.loc[general_f17['Studying_Stats'], 'total_time'].sum()\n",
    "film_hours = general_f17.loc[general_f17['Studying_Film'], 'total_time'].sum()\n",
    "\n",
    "print(\"Total time spent studying MATH 131A: {}\".format(math_hours))\n",
    "print(\"Total time spent studying STATS 101A: {}\".format(stats_hours))\n",
    "print(\"Total time spent studying FILM TV 6A: {}\".format(film_hours))\n",
    "\n",
    "subjects = [\"MATH 131A\", \"STATS101A\", \"FILM TV 6A\"]\n",
    "total_times = [math_hours, stats_hours, film_hours]"
   ]
  },
  {
   "cell_type": "code",
   "execution_count": 147,
   "metadata": {},
   "outputs": [],
   "source": [
    "# set matplotlib parameters\n",
    "mpl.rcParams['axes.titlesize'] = 18\n",
    "mpl.rcParams['axes.labelsize'] = 14\n",
    "mpl.rcParams['legend.fontsize'] = 14\n",
    "mpl.rcParams['xtick.labelsize'] = 12\n",
    "mpl.rcParams['ytick.labelsize'] = 12\n",
    "\n",
    "plt.style.use('seaborn-darkgrid')\n",
    "\n",
    "# because matplotlib's default colors drive me insane\n",
    "# inspiration from https://www.canva.com/learn/100-color-combinations/\n",
    "fresh_colors = [\"#F98866\", \"#FF420E\", \"#80BD9E\", \"#89DA59\"] #01. Fresh & Bright\n",
    "crisp_colors = [\"#505160\", \"#68829E\", \"#AEBD38\", \"#598234\"] # 04. Crisp & Dramatic\n",
    "primary_colors = [\"#375E97\", \"#FB6542\", \"#FFBB00\", \"#3F681C\"] # 08. Primary Colors"
   ]
  },
  {
   "cell_type": "code",
   "execution_count": 148,
   "metadata": {},
   "outputs": [
    {
     "data": {
      "image/png": "[encoded data removed]",
      "text/plain": [
       "<matplotlib.figure.Figure at 0x11cd384a8>"
      ]
     },
     "metadata": {},
     "output_type": "display_data"
    }
   ],
   "source": [
    "fig1, ax1 = plt.subplots(figsize=(10, 6))\n",
    "\n",
    "g1 = ax1.bar(subjects, total_times, color=primary_colors, alpha=0.8);\n",
    "\n",
    "ax1.set_title(\"Total Study Time by Subject\")\n",
    "ax1.set_xlabel(\"Subject\")\n",
    "ax1.set_ylabel(\"Hours\")\n",
    "\n",
    "plt.show()"
   ]
  },
  {
   "cell_type": "code",
   "execution_count": 137,
   "metadata": {},
   "outputs": [],
   "source": [
    "math_data = general_f17.loc[general_f17['Studying_Math']]\n",
    "stats_data = general_f17.loc[general_f17['Studying_Stats']]\n",
    "film_data = general_f17.loc[general_f17['Studying_Film']]"
   ]
  }
 ],
 "metadata": {
  "kernelspec": {
   "display_name": "Python 3",
   "language": "python",
   "name": "python3"
  },
  "language_info": {
   "codemirror_mode": {
    "name": "ipython",
    "version": 3
   },
   "file_extension": ".py",
   "mimetype": "text/x-python",
   "name": "python",
   "nbconvert_exporter": "python",
   "pygments_lexer": "ipython3",
   "version": "3.6.3"
  }
 },
 "nbformat": 4,
 "nbformat_minor": 2
}
